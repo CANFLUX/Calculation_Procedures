{
 "cells": [
  {
   "cell_type": "markdown",
   "metadata": {},
   "source": [
    "## Ini File Formatter\n",
    "\n",
    "The micromet .ini files are **not** in standard .ini format.  An ini file needs key,value pairs grouped by **[Section]** headers.  Headers cannot be repeated.  The **[Trace]..[End]** format used is not standard."
   ]
  },
  {
   "cell_type": "code",
   "execution_count": 6,
   "metadata": {},
   "outputs": [
    {
     "name": "stdout",
     "output_type": "stream",
     "text": [
      "!\n"
     ]
    }
   ],
   "source": [
    "\n",
    "import itertools\n",
    "import os\n",
    "import configparser\n",
    "\n",
    "\n",
    "class format_ini():\n",
    "    def __init__(self):\n",
    "        self.config = configparser.ConfigParser()\n",
    "        self.config.optionxform = str\n",
    "\n",
    "    def ini_to_config(self,ini_file):\n",
    "        \n",
    "        with open(ini_file,'r',encoding='utf8') as f:\n",
    "            ini = ''\n",
    "            for line in f.readlines():\n",
    "                l = line.rstrip().lstrip()\n",
    "                if l.startswith('%')==False:\n",
    "                    l = l.replace(\"{'\",'{\"').replace(\"'}\",'\"}').replace(\";'\",';\"')\n",
    "\n",
    "                    L = l.split(\"'\")\n",
    "                    # Remove and inline trailing comments\n",
    "                    L[-1]=L[-1].split('%')[0]\n",
    "                    l = (\"\").join(L)\n",
    "                    l = l.replace('%','%%')\n",
    "                    l = l.replace('{\"',\"{'\").replace('\"}',\"'}\")\n",
    "                    l = l.rstrip()\n",
    "                    if l != '':\n",
    "                        if l.endswith(',') or l.endswith(';') or l.endswith('...') or l.endswith('end'):\n",
    "                            if l.endswith(';') or l.endswith('end'):\n",
    "                                l = l+','\n",
    "                            ini = ini+l\n",
    "                        else:\n",
    "                            ini = ini+l.replace(';\"',';')+'\\n'\n",
    "\n",
    "            \n",
    "        header = ini.split('[Trace]',1)[0]\n",
    "        header = ('\\n').join([h for h in header.split('\\n') if h.lstrip().startswith('%')==False])\n",
    "        items = [rec for rec in header.split('\\n') if '=' in rec]\n",
    "        default = '[Metadata]\\n'\n",
    "        for row in items:\n",
    "            default += row.replace(\"'\",'') + '\\n'\n",
    "        self.config.read_string(default)\n",
    "        blocks = [self.get_sec(b.split('[End]')[0]) for b in ini.split('[Trace]') if '[End]' in b]\n",
    "        for blk in blocks:\n",
    "            try:\n",
    "                self.config.read_string(blk)\n",
    "            except:\n",
    "                print('Could Not Parse Block:')\n",
    "                print(blk)\n",
    "                pass\n",
    "        \n",
    "    def get_sec(self,b_in):\n",
    "        sec = '['+b_in.split('variableName')[1].split('\\n')[0].lstrip('= ')+']\\n'+b_in\n",
    "        return(sec)\n",
    "    \n",
    "    \n",
    "SiteID = 'DSM'\n",
    "Stage = 'First'\n",
    "ini_file = f'{SiteID}/{SiteID}_{Stage}Stage_oldFormat.ini'\n",
    "\n",
    "if os.path.isfile(ini_file)==False:\n",
    "    print('!')\n",
    "\n",
    "# ini=format_ini()\n",
    "# ini.ini_to_config(ini_file)\n",
    "\n",
    "# with open(f'{SiteID}/{SiteID}_{Stage}Stage.ini', 'w',encoding='utf8') as configfile:\n",
    "#     ini.config.write(configfile,space_around_delimiters=False)\n"
   ]
  }
 ],
 "metadata": {
  "kernelspec": {
   "display_name": ".venv",
   "language": "python",
   "name": "python3"
  },
  "language_info": {
   "codemirror_mode": {
    "name": "ipython",
    "version": 3
   },
   "file_extension": ".py",
   "mimetype": "text/x-python",
   "name": "python",
   "nbconvert_exporter": "python",
   "pygments_lexer": "ipython3",
   "version": "3.10.4"
  }
 },
 "nbformat": 4,
 "nbformat_minor": 2
}
